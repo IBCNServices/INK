{
 "cells": [
  {
   "cell_type": "code",
   "execution_count": 1,
   "metadata": {
    "collapsed": true
   },
   "outputs": [],
   "source": [
    "import pandas as pd"
   ]
  },
  {
   "cell_type": "markdown",
   "source": [
    "Yago2Cor"
   ],
   "metadata": {
    "collapsed": false
   }
  },
  {
   "cell_type": "code",
   "execution_count": 2,
   "outputs": [],
   "source": [
    "N = 405"
   ],
   "metadata": {
    "collapsed": false,
    "pycharm": {
     "name": "#%%\n"
    }
   }
  },
  {
   "cell_type": "markdown",
   "source": [],
   "metadata": {
    "collapsed": false
   }
  },
  {
   "cell_type": "code",
   "execution_count": 3,
   "outputs": [
    {
     "data": {
      "text/plain": "754"
     },
     "execution_count": 3,
     "metadata": {},
     "output_type": "execute_result"
    }
   ],
   "source": [
    "inkf = pd.read_csv(\"yago2s_ink_result_complexity_2.csv.csv\", index_col=0)\n",
    "inkf = inkf.drop_duplicates(subset=['antecedent support','consequent support','support','confidence'], keep='first')\n",
    "len(inkf)"
   ],
   "metadata": {
    "collapsed": false,
    "pycharm": {
     "name": "#%%\n"
    }
   }
  },
  {
   "cell_type": "code",
   "execution_count": 5,
   "outputs": [
    {
     "data": {
      "text/plain": "                                           antecedents  \\\n258   frozenset({'?a http://example.com/playsFor ?b'})   \n270  frozenset({'?a http://example.com/isMarriedTo ...   \n118  frozenset({'?a http://example.com/holdsPolitic...   \n536  frozenset({('?k http://example.com/hasAcademic...   \n234  frozenset({'?a http://example.com/hasAcademicA...   \n..                                                 ...   \n742  frozenset({('?a http://example.com/hasGender ?...   \n745  frozenset({('?a http://example.com/hasGender ?...   \n754  frozenset({('?a http://example.com/hasGender ?...   \n748  frozenset({('?a http://example.com/hasGender ?...   \n751  frozenset({('?a http://example.com/hasGender ?...   \n\n                                           consequents  antecedent support  \\\n258  frozenset({'?a http://example.com/isAffiliated...        3.463250e+05   \n270  frozenset({'?b http://example.com/isMarriedTo ...        2.375800e+04   \n118  frozenset({'?a http://example.com/isPolitician...        9.430000e+02   \n536  frozenset({'?a http://example.com/hasGender ?b'})        1.949000e+03   \n234  frozenset({'?a http://example.com/hasGender ?b'})        2.823000e+03   \n..                                                 ...                 ...   \n742  frozenset({'?a http://example.com/hasAcademicA...        6.299564e+11   \n745  frozenset({'?a http://example.com/holdsPolitic...        6.299564e+11   \n754    frozenset({'?a http://example.com/created ?b'})        6.299564e+11   \n748  frozenset({'?a http://example.com/isAffiliated...        6.299564e+11   \n751  frozenset({'?a http://example.com/isMarriedTo ...        6.299564e+11   \n\n     consequent support   support    confidence          lift      leverage  \\\n258            419854.0  346322.0  9.999913e-01  2.381760e-06 -1.454056e+11   \n270             23758.0   23754.0  9.998316e-01  4.208400e-05 -5.644188e+08   \n118              3749.0     924.0  9.798515e-01  2.613634e-04 -3.534383e+06   \n536            923292.0    1815.0  9.312468e-01  1.008616e-06 -1.799494e+09   \n234            923292.0    2621.0  9.284449e-01  1.005581e-06 -2.606451e+09   \n..                  ...       ...           ...           ...           ...   \n742              2895.0    2672.0  4.241563e-09  1.465134e-12 -1.823724e+15   \n745              5259.0    2412.0  3.828836e-09  7.280540e-13 -3.312941e+15   \n754            261102.0    1503.0  2.385879e-09  9.137729e-15 -1.644829e+17   \n748            419854.0    1411.0  2.239837e-09  5.334801e-15 -2.644897e+17   \n751             23758.0     714.0  1.133412e-09  4.770653e-14 -1.496651e+16   \n\n       conviction  \n258 -4.846853e+10  \n270 -1.411047e+08  \n118 -1.860192e+05  \n536 -1.342906e+07  \n234 -1.290322e+07  \n..            ...  \n742 -2.894000e+03  \n745 -5.258000e+03  \n754 -2.611010e+05  \n748 -4.198530e+05  \n751 -2.375700e+04  \n\n[754 rows x 9 columns]",
      "text/html": "<div>\n<style scoped>\n    .dataframe tbody tr th:only-of-type {\n        vertical-align: middle;\n    }\n\n    .dataframe tbody tr th {\n        vertical-align: top;\n    }\n\n    .dataframe thead th {\n        text-align: right;\n    }\n</style>\n<table border=\"1\" class=\"dataframe\">\n  <thead>\n    <tr style=\"text-align: right;\">\n      <th></th>\n      <th>antecedents</th>\n      <th>consequents</th>\n      <th>antecedent support</th>\n      <th>consequent support</th>\n      <th>support</th>\n      <th>confidence</th>\n      <th>lift</th>\n      <th>leverage</th>\n      <th>conviction</th>\n    </tr>\n  </thead>\n  <tbody>\n    <tr>\n      <th>258</th>\n      <td>frozenset({'?a http://example.com/playsFor ?b'})</td>\n      <td>frozenset({'?a http://example.com/isAffiliated...</td>\n      <td>3.463250e+05</td>\n      <td>419854.0</td>\n      <td>346322.0</td>\n      <td>9.999913e-01</td>\n      <td>2.381760e-06</td>\n      <td>-1.454056e+11</td>\n      <td>-4.846853e+10</td>\n    </tr>\n    <tr>\n      <th>270</th>\n      <td>frozenset({'?a http://example.com/isMarriedTo ...</td>\n      <td>frozenset({'?b http://example.com/isMarriedTo ...</td>\n      <td>2.375800e+04</td>\n      <td>23758.0</td>\n      <td>23754.0</td>\n      <td>9.998316e-01</td>\n      <td>4.208400e-05</td>\n      <td>-5.644188e+08</td>\n      <td>-1.411047e+08</td>\n    </tr>\n    <tr>\n      <th>118</th>\n      <td>frozenset({'?a http://example.com/holdsPolitic...</td>\n      <td>frozenset({'?a http://example.com/isPolitician...</td>\n      <td>9.430000e+02</td>\n      <td>3749.0</td>\n      <td>924.0</td>\n      <td>9.798515e-01</td>\n      <td>2.613634e-04</td>\n      <td>-3.534383e+06</td>\n      <td>-1.860192e+05</td>\n    </tr>\n    <tr>\n      <th>536</th>\n      <td>frozenset({('?k http://example.com/hasAcademic...</td>\n      <td>frozenset({'?a http://example.com/hasGender ?b'})</td>\n      <td>1.949000e+03</td>\n      <td>923292.0</td>\n      <td>1815.0</td>\n      <td>9.312468e-01</td>\n      <td>1.008616e-06</td>\n      <td>-1.799494e+09</td>\n      <td>-1.342906e+07</td>\n    </tr>\n    <tr>\n      <th>234</th>\n      <td>frozenset({'?a http://example.com/hasAcademicA...</td>\n      <td>frozenset({'?a http://example.com/hasGender ?b'})</td>\n      <td>2.823000e+03</td>\n      <td>923292.0</td>\n      <td>2621.0</td>\n      <td>9.284449e-01</td>\n      <td>1.005581e-06</td>\n      <td>-2.606451e+09</td>\n      <td>-1.290322e+07</td>\n    </tr>\n    <tr>\n      <th>...</th>\n      <td>...</td>\n      <td>...</td>\n      <td>...</td>\n      <td>...</td>\n      <td>...</td>\n      <td>...</td>\n      <td>...</td>\n      <td>...</td>\n      <td>...</td>\n    </tr>\n    <tr>\n      <th>742</th>\n      <td>frozenset({('?a http://example.com/hasGender ?...</td>\n      <td>frozenset({'?a http://example.com/hasAcademicA...</td>\n      <td>6.299564e+11</td>\n      <td>2895.0</td>\n      <td>2672.0</td>\n      <td>4.241563e-09</td>\n      <td>1.465134e-12</td>\n      <td>-1.823724e+15</td>\n      <td>-2.894000e+03</td>\n    </tr>\n    <tr>\n      <th>745</th>\n      <td>frozenset({('?a http://example.com/hasGender ?...</td>\n      <td>frozenset({'?a http://example.com/holdsPolitic...</td>\n      <td>6.299564e+11</td>\n      <td>5259.0</td>\n      <td>2412.0</td>\n      <td>3.828836e-09</td>\n      <td>7.280540e-13</td>\n      <td>-3.312941e+15</td>\n      <td>-5.258000e+03</td>\n    </tr>\n    <tr>\n      <th>754</th>\n      <td>frozenset({('?a http://example.com/hasGender ?...</td>\n      <td>frozenset({'?a http://example.com/created ?b'})</td>\n      <td>6.299564e+11</td>\n      <td>261102.0</td>\n      <td>1503.0</td>\n      <td>2.385879e-09</td>\n      <td>9.137729e-15</td>\n      <td>-1.644829e+17</td>\n      <td>-2.611010e+05</td>\n    </tr>\n    <tr>\n      <th>748</th>\n      <td>frozenset({('?a http://example.com/hasGender ?...</td>\n      <td>frozenset({'?a http://example.com/isAffiliated...</td>\n      <td>6.299564e+11</td>\n      <td>419854.0</td>\n      <td>1411.0</td>\n      <td>2.239837e-09</td>\n      <td>5.334801e-15</td>\n      <td>-2.644897e+17</td>\n      <td>-4.198530e+05</td>\n    </tr>\n    <tr>\n      <th>751</th>\n      <td>frozenset({('?a http://example.com/hasGender ?...</td>\n      <td>frozenset({'?a http://example.com/isMarriedTo ...</td>\n      <td>6.299564e+11</td>\n      <td>23758.0</td>\n      <td>714.0</td>\n      <td>1.133412e-09</td>\n      <td>4.770653e-14</td>\n      <td>-1.496651e+16</td>\n      <td>-2.375700e+04</td>\n    </tr>\n  </tbody>\n</table>\n<p>754 rows × 9 columns</p>\n</div>"
     },
     "execution_count": 5,
     "metadata": {},
     "output_type": "execute_result"
    }
   ],
   "source": [
    "#inkf.sort_values('confidence',ascending=False).head(N)\n",
    "inkf.sort_values('confidence',ascending=False)"
   ],
   "metadata": {
    "collapsed": false,
    "pycharm": {
     "name": "#%%\n"
    }
   }
  },
  {
   "cell_type": "code",
   "execution_count": 153,
   "outputs": [
    {
     "name": "stdout",
     "output_type": "stream",
     "text": [
      "0.31 (0.24)\n"
     ]
    }
   ],
   "source": [
    "print(round(inkf.sort_values('confidence',ascending=False).head(N)['confidence'].mean(),3), '('+str(round(inkf.sort_values('confidence',ascending=False).head(N)['confidence'].std(),2))+')')"
   ],
   "metadata": {
    "collapsed": false,
    "pycharm": {
     "name": "#%%\n"
    }
   }
  },
  {
   "cell_type": "code",
   "execution_count": 141,
   "outputs": [
    {
     "data": {
      "text/plain": "                                            antecedents  \\\n3079  frozenset({('?k http://example.com/succeeded_b...   \n650   frozenset({'?a http://example.com/asteroid_spe...   \n1174  frozenset({'?a http://example.com/ortholog_P68...   \n1744  frozenset({'?b http://example.com/child_astron...   \n3224  frozenset({'?a http://example.com/asteroid_spe...   \n...                                                 ...   \n1149  frozenset({'?a http://example.com/DEPRECATED_m...   \n904   frozenset({'?a http://example.com/type_of_admi...   \n2504  frozenset({('?a http://example.com/series_P179...   \n3394  frozenset({('?k http://example.com/contains_ad...   \n1835  frozenset({'?a http://example.com/child_P40 ?b'})   \n\n                                            consequents  antecedent support  \\\n3079  frozenset({'?a http://example.com/type_of_orbi...               230.0   \n650   frozenset({'?a http://example.com/type_of_astr...               329.0   \n1174  frozenset({'?a http://example.com/subclass_of_...              1851.0   \n1744  frozenset({'?a http://example.com/astronomical...               441.0   \n3224  frozenset({('?a http://example.com/type_of_ast...               362.0   \n...                                                 ...                 ...   \n1149  frozenset({'?a http://example.com/is_in_the_ad...            378472.0   \n904   frozenset({'?a http://example.com/is_in_the_ad...            135235.0   \n2504  frozenset({'?a http://example.com/succeeded_by...              7644.0   \n3394  frozenset({'?a http://example.com/contains_adm...             64062.0   \n1835  frozenset({('?a http://example.com/award_recei...             33341.0   \n\n      consequent support  support  confidence          lift      leverage  \\\n3079               287.0    230.0    1.000000  3.484321e-03 -6.578000e+04   \n650              27357.0    329.0    1.000000  3.655372e-05 -9.000124e+06   \n1174             36993.0   1851.0    1.000000  2.703214e-05 -6.847219e+07   \n1744               499.0    441.0    1.000000  2.004008e-03 -2.196180e+05   \n3224            519897.0    362.0    1.000000  1.923458e-06 -1.882024e+08   \n...                  ...      ...         ...           ...           ...   \n1149             15536.0   5493.0    0.014514  9.341930e-07 -5.879935e+09   \n904             661749.0   1954.0    0.014449  2.183445e-08 -8.949162e+10   \n2504            105481.0    110.0    0.014390  1.364262e-07 -8.062967e+08   \n3394             89323.0    918.0    0.014330  1.604275e-07 -5.722209e+09   \n1835         110665127.0    477.0    0.014307  1.292793e-10 -3.689686e+12   \n\n        conviction  \n3079           inf  \n650            inf  \n1174           inf  \n1744           inf  \n3224           inf  \n...            ...  \n1149 -1.576379e+04  \n904  -6.714497e+05  \n2504 -1.070201e+05  \n3394 -9.062058e+04  \n1835 -1.122714e+08  \n\n[2121 rows x 9 columns]",
      "text/html": "<div>\n<style scoped>\n    .dataframe tbody tr th:only-of-type {\n        vertical-align: middle;\n    }\n\n    .dataframe tbody tr th {\n        vertical-align: top;\n    }\n\n    .dataframe thead th {\n        text-align: right;\n    }\n</style>\n<table border=\"1\" class=\"dataframe\">\n  <thead>\n    <tr style=\"text-align: right;\">\n      <th></th>\n      <th>antecedents</th>\n      <th>consequents</th>\n      <th>antecedent support</th>\n      <th>consequent support</th>\n      <th>support</th>\n      <th>confidence</th>\n      <th>lift</th>\n      <th>leverage</th>\n      <th>conviction</th>\n    </tr>\n  </thead>\n  <tbody>\n    <tr>\n      <th>3079</th>\n      <td>frozenset({('?k http://example.com/succeeded_b...</td>\n      <td>frozenset({'?a http://example.com/type_of_orbi...</td>\n      <td>230.0</td>\n      <td>287.0</td>\n      <td>230.0</td>\n      <td>1.000000</td>\n      <td>3.484321e-03</td>\n      <td>-6.578000e+04</td>\n      <td>inf</td>\n    </tr>\n    <tr>\n      <th>650</th>\n      <td>frozenset({'?a http://example.com/asteroid_spe...</td>\n      <td>frozenset({'?a http://example.com/type_of_astr...</td>\n      <td>329.0</td>\n      <td>27357.0</td>\n      <td>329.0</td>\n      <td>1.000000</td>\n      <td>3.655372e-05</td>\n      <td>-9.000124e+06</td>\n      <td>inf</td>\n    </tr>\n    <tr>\n      <th>1174</th>\n      <td>frozenset({'?a http://example.com/ortholog_P68...</td>\n      <td>frozenset({'?a http://example.com/subclass_of_...</td>\n      <td>1851.0</td>\n      <td>36993.0</td>\n      <td>1851.0</td>\n      <td>1.000000</td>\n      <td>2.703214e-05</td>\n      <td>-6.847219e+07</td>\n      <td>inf</td>\n    </tr>\n    <tr>\n      <th>1744</th>\n      <td>frozenset({'?b http://example.com/child_astron...</td>\n      <td>frozenset({'?a http://example.com/astronomical...</td>\n      <td>441.0</td>\n      <td>499.0</td>\n      <td>441.0</td>\n      <td>1.000000</td>\n      <td>2.004008e-03</td>\n      <td>-2.196180e+05</td>\n      <td>inf</td>\n    </tr>\n    <tr>\n      <th>3224</th>\n      <td>frozenset({'?a http://example.com/asteroid_spe...</td>\n      <td>frozenset({('?a http://example.com/type_of_ast...</td>\n      <td>362.0</td>\n      <td>519897.0</td>\n      <td>362.0</td>\n      <td>1.000000</td>\n      <td>1.923458e-06</td>\n      <td>-1.882024e+08</td>\n      <td>inf</td>\n    </tr>\n    <tr>\n      <th>...</th>\n      <td>...</td>\n      <td>...</td>\n      <td>...</td>\n      <td>...</td>\n      <td>...</td>\n      <td>...</td>\n      <td>...</td>\n      <td>...</td>\n      <td>...</td>\n    </tr>\n    <tr>\n      <th>1149</th>\n      <td>frozenset({'?a http://example.com/DEPRECATED_m...</td>\n      <td>frozenset({'?a http://example.com/is_in_the_ad...</td>\n      <td>378472.0</td>\n      <td>15536.0</td>\n      <td>5493.0</td>\n      <td>0.014514</td>\n      <td>9.341930e-07</td>\n      <td>-5.879935e+09</td>\n      <td>-1.576379e+04</td>\n    </tr>\n    <tr>\n      <th>904</th>\n      <td>frozenset({'?a http://example.com/type_of_admi...</td>\n      <td>frozenset({'?a http://example.com/is_in_the_ad...</td>\n      <td>135235.0</td>\n      <td>661749.0</td>\n      <td>1954.0</td>\n      <td>0.014449</td>\n      <td>2.183445e-08</td>\n      <td>-8.949162e+10</td>\n      <td>-6.714497e+05</td>\n    </tr>\n    <tr>\n      <th>2504</th>\n      <td>frozenset({('?a http://example.com/series_P179...</td>\n      <td>frozenset({'?a http://example.com/succeeded_by...</td>\n      <td>7644.0</td>\n      <td>105481.0</td>\n      <td>110.0</td>\n      <td>0.014390</td>\n      <td>1.364262e-07</td>\n      <td>-8.062967e+08</td>\n      <td>-1.070201e+05</td>\n    </tr>\n    <tr>\n      <th>3394</th>\n      <td>frozenset({('?k http://example.com/contains_ad...</td>\n      <td>frozenset({'?a http://example.com/contains_adm...</td>\n      <td>64062.0</td>\n      <td>89323.0</td>\n      <td>918.0</td>\n      <td>0.014330</td>\n      <td>1.604275e-07</td>\n      <td>-5.722209e+09</td>\n      <td>-9.062058e+04</td>\n    </tr>\n    <tr>\n      <th>1835</th>\n      <td>frozenset({'?a http://example.com/child_P40 ?b'})</td>\n      <td>frozenset({('?a http://example.com/award_recei...</td>\n      <td>33341.0</td>\n      <td>110665127.0</td>\n      <td>477.0</td>\n      <td>0.014307</td>\n      <td>1.292793e-10</td>\n      <td>-3.689686e+12</td>\n      <td>-1.122714e+08</td>\n    </tr>\n  </tbody>\n</table>\n<p>2121 rows × 9 columns</p>\n</div>"
     },
     "execution_count": 141,
     "metadata": {},
     "output_type": "execute_result"
    }
   ],
   "source": [
    "inkf.sort_values('confidence',ascending=False).head(N)"
   ],
   "metadata": {
    "collapsed": false,
    "pycharm": {
     "name": "#%%\n"
    }
   }
  },
  {
   "cell_type": "code",
   "execution_count": 154,
   "outputs": [
    {
     "data": {
      "text/plain": "405"
     },
     "execution_count": 154,
     "metadata": {},
     "output_type": "execute_result"
    }
   ],
   "source": [
    "amief = pd.read_csv(\"yago2s_amie3.log\", skiprows=13, index_col=0, delimiter='\\t')\n",
    "len(amief)"
   ],
   "metadata": {
    "collapsed": false,
    "pycharm": {
     "name": "#%%\n"
    }
   }
  },
  {
   "cell_type": "code",
   "execution_count": 155,
   "outputs": [
    {
     "name": "stdout",
     "output_type": "stream",
     "text": [
      "0.221 (0.23)\n"
     ]
    }
   ],
   "source": [
    "print(round(amief.sort_values('Std Confidence',ascending=False).head(N)['Std Confidence'].mean(),3), '('+str(round(amief.sort_values('Std Confidence',ascending=False).head(N)['Std Confidence'].std(),2))+')')"
   ],
   "metadata": {
    "collapsed": false,
    "pycharm": {
     "name": "#%%\n"
    }
   }
  },
  {
   "cell_type": "code",
   "execution_count": 106,
   "outputs": [],
   "source": [],
   "metadata": {
    "collapsed": false,
    "pycharm": {
     "name": "#%%\n"
    }
   }
  },
  {
   "cell_type": "code",
   "execution_count": 113,
   "outputs": [],
   "source": [],
   "metadata": {
    "collapsed": false,
    "pycharm": {
     "name": "#%%\n"
    }
   }
  },
  {
   "cell_type": "code",
   "execution_count": 54,
   "outputs": [],
   "source": [],
   "metadata": {
    "collapsed": false,
    "pycharm": {
     "name": "#%%\n"
    }
   }
  },
  {
   "cell_type": "code",
   "execution_count": 85,
   "outputs": [
    {
     "ename": "FileNotFoundError",
     "evalue": "[Errno 2] No such file or directory: 'dbpedia2_ink_result_complexity_2.csv'",
     "output_type": "error",
     "traceback": [
      "\u001B[0;31m---------------------------------------------------------------------------\u001B[0m",
      "\u001B[0;31mFileNotFoundError\u001B[0m                         Traceback (most recent call last)",
      "\u001B[0;32m<ipython-input-85-c7540189d496>\u001B[0m in \u001B[0;36m<module>\u001B[0;34m\u001B[0m\n\u001B[0;32m----> 1\u001B[0;31m \u001B[0minkf\u001B[0m \u001B[0;34m=\u001B[0m \u001B[0mpd\u001B[0m\u001B[0;34m.\u001B[0m\u001B[0mread_csv\u001B[0m\u001B[0;34m(\u001B[0m\u001B[0;34m\"dbpedia2_ink_result_complexity_2.csv\"\u001B[0m\u001B[0;34m,\u001B[0m \u001B[0mindex_col\u001B[0m\u001B[0;34m=\u001B[0m\u001B[0;36m0\u001B[0m\u001B[0;34m)\u001B[0m\u001B[0;34m\u001B[0m\u001B[0;34m\u001B[0m\u001B[0m\n\u001B[0m\u001B[1;32m      2\u001B[0m \u001B[0mlen\u001B[0m\u001B[0;34m(\u001B[0m\u001B[0minkf\u001B[0m\u001B[0;34m)\u001B[0m\u001B[0;34m\u001B[0m\u001B[0;34m\u001B[0m\u001B[0m\n",
      "\u001B[0;32m/Library/Frameworks/Python.framework/Versions/3.8/lib/python3.8/site-packages/pandas/util/_decorators.py\u001B[0m in \u001B[0;36mwrapper\u001B[0;34m(*args, **kwargs)\u001B[0m\n\u001B[1;32m    309\u001B[0m                     \u001B[0mstacklevel\u001B[0m\u001B[0;34m=\u001B[0m\u001B[0mstacklevel\u001B[0m\u001B[0;34m,\u001B[0m\u001B[0;34m\u001B[0m\u001B[0;34m\u001B[0m\u001B[0m\n\u001B[1;32m    310\u001B[0m                 )\n\u001B[0;32m--> 311\u001B[0;31m             \u001B[0;32mreturn\u001B[0m \u001B[0mfunc\u001B[0m\u001B[0;34m(\u001B[0m\u001B[0;34m*\u001B[0m\u001B[0margs\u001B[0m\u001B[0;34m,\u001B[0m \u001B[0;34m**\u001B[0m\u001B[0mkwargs\u001B[0m\u001B[0;34m)\u001B[0m\u001B[0;34m\u001B[0m\u001B[0;34m\u001B[0m\u001B[0m\n\u001B[0m\u001B[1;32m    312\u001B[0m \u001B[0;34m\u001B[0m\u001B[0m\n\u001B[1;32m    313\u001B[0m         \u001B[0;32mreturn\u001B[0m \u001B[0mwrapper\u001B[0m\u001B[0;34m\u001B[0m\u001B[0;34m\u001B[0m\u001B[0m\n",
      "\u001B[0;32m/Library/Frameworks/Python.framework/Versions/3.8/lib/python3.8/site-packages/pandas/io/parsers/readers.py\u001B[0m in \u001B[0;36mread_csv\u001B[0;34m(filepath_or_buffer, sep, delimiter, header, names, index_col, usecols, squeeze, prefix, mangle_dupe_cols, dtype, engine, converters, true_values, false_values, skipinitialspace, skiprows, skipfooter, nrows, na_values, keep_default_na, na_filter, verbose, skip_blank_lines, parse_dates, infer_datetime_format, keep_date_col, date_parser, dayfirst, cache_dates, iterator, chunksize, compression, thousands, decimal, lineterminator, quotechar, quoting, doublequote, escapechar, comment, encoding, encoding_errors, dialect, error_bad_lines, warn_bad_lines, on_bad_lines, delim_whitespace, low_memory, memory_map, float_precision, storage_options)\u001B[0m\n\u001B[1;32m    584\u001B[0m     \u001B[0mkwds\u001B[0m\u001B[0;34m.\u001B[0m\u001B[0mupdate\u001B[0m\u001B[0;34m(\u001B[0m\u001B[0mkwds_defaults\u001B[0m\u001B[0;34m)\u001B[0m\u001B[0;34m\u001B[0m\u001B[0;34m\u001B[0m\u001B[0m\n\u001B[1;32m    585\u001B[0m \u001B[0;34m\u001B[0m\u001B[0m\n\u001B[0;32m--> 586\u001B[0;31m     \u001B[0;32mreturn\u001B[0m \u001B[0m_read\u001B[0m\u001B[0;34m(\u001B[0m\u001B[0mfilepath_or_buffer\u001B[0m\u001B[0;34m,\u001B[0m \u001B[0mkwds\u001B[0m\u001B[0;34m)\u001B[0m\u001B[0;34m\u001B[0m\u001B[0;34m\u001B[0m\u001B[0m\n\u001B[0m\u001B[1;32m    587\u001B[0m \u001B[0;34m\u001B[0m\u001B[0m\n\u001B[1;32m    588\u001B[0m \u001B[0;34m\u001B[0m\u001B[0m\n",
      "\u001B[0;32m/Library/Frameworks/Python.framework/Versions/3.8/lib/python3.8/site-packages/pandas/io/parsers/readers.py\u001B[0m in \u001B[0;36m_read\u001B[0;34m(filepath_or_buffer, kwds)\u001B[0m\n\u001B[1;32m    480\u001B[0m \u001B[0;34m\u001B[0m\u001B[0m\n\u001B[1;32m    481\u001B[0m     \u001B[0;31m# Create the parser.\u001B[0m\u001B[0;34m\u001B[0m\u001B[0;34m\u001B[0m\u001B[0;34m\u001B[0m\u001B[0m\n\u001B[0;32m--> 482\u001B[0;31m     \u001B[0mparser\u001B[0m \u001B[0;34m=\u001B[0m \u001B[0mTextFileReader\u001B[0m\u001B[0;34m(\u001B[0m\u001B[0mfilepath_or_buffer\u001B[0m\u001B[0;34m,\u001B[0m \u001B[0;34m**\u001B[0m\u001B[0mkwds\u001B[0m\u001B[0;34m)\u001B[0m\u001B[0;34m\u001B[0m\u001B[0;34m\u001B[0m\u001B[0m\n\u001B[0m\u001B[1;32m    483\u001B[0m \u001B[0;34m\u001B[0m\u001B[0m\n\u001B[1;32m    484\u001B[0m     \u001B[0;32mif\u001B[0m \u001B[0mchunksize\u001B[0m \u001B[0;32mor\u001B[0m \u001B[0miterator\u001B[0m\u001B[0;34m:\u001B[0m\u001B[0;34m\u001B[0m\u001B[0;34m\u001B[0m\u001B[0m\n",
      "\u001B[0;32m/Library/Frameworks/Python.framework/Versions/3.8/lib/python3.8/site-packages/pandas/io/parsers/readers.py\u001B[0m in \u001B[0;36m__init__\u001B[0;34m(self, f, engine, **kwds)\u001B[0m\n\u001B[1;32m    809\u001B[0m             \u001B[0mself\u001B[0m\u001B[0;34m.\u001B[0m\u001B[0moptions\u001B[0m\u001B[0;34m[\u001B[0m\u001B[0;34m\"has_index_names\"\u001B[0m\u001B[0;34m]\u001B[0m \u001B[0;34m=\u001B[0m \u001B[0mkwds\u001B[0m\u001B[0;34m[\u001B[0m\u001B[0;34m\"has_index_names\"\u001B[0m\u001B[0;34m]\u001B[0m\u001B[0;34m\u001B[0m\u001B[0;34m\u001B[0m\u001B[0m\n\u001B[1;32m    810\u001B[0m \u001B[0;34m\u001B[0m\u001B[0m\n\u001B[0;32m--> 811\u001B[0;31m         \u001B[0mself\u001B[0m\u001B[0;34m.\u001B[0m\u001B[0m_engine\u001B[0m \u001B[0;34m=\u001B[0m \u001B[0mself\u001B[0m\u001B[0;34m.\u001B[0m\u001B[0m_make_engine\u001B[0m\u001B[0;34m(\u001B[0m\u001B[0mself\u001B[0m\u001B[0;34m.\u001B[0m\u001B[0mengine\u001B[0m\u001B[0;34m)\u001B[0m\u001B[0;34m\u001B[0m\u001B[0;34m\u001B[0m\u001B[0m\n\u001B[0m\u001B[1;32m    812\u001B[0m \u001B[0;34m\u001B[0m\u001B[0m\n\u001B[1;32m    813\u001B[0m     \u001B[0;32mdef\u001B[0m \u001B[0mclose\u001B[0m\u001B[0;34m(\u001B[0m\u001B[0mself\u001B[0m\u001B[0;34m)\u001B[0m\u001B[0;34m:\u001B[0m\u001B[0;34m\u001B[0m\u001B[0;34m\u001B[0m\u001B[0m\n",
      "\u001B[0;32m/Library/Frameworks/Python.framework/Versions/3.8/lib/python3.8/site-packages/pandas/io/parsers/readers.py\u001B[0m in \u001B[0;36m_make_engine\u001B[0;34m(self, engine)\u001B[0m\n\u001B[1;32m   1038\u001B[0m             )\n\u001B[1;32m   1039\u001B[0m         \u001B[0;31m# error: Too many arguments for \"ParserBase\"\u001B[0m\u001B[0;34m\u001B[0m\u001B[0;34m\u001B[0m\u001B[0;34m\u001B[0m\u001B[0m\n\u001B[0;32m-> 1040\u001B[0;31m         \u001B[0;32mreturn\u001B[0m \u001B[0mmapping\u001B[0m\u001B[0;34m[\u001B[0m\u001B[0mengine\u001B[0m\u001B[0;34m]\u001B[0m\u001B[0;34m(\u001B[0m\u001B[0mself\u001B[0m\u001B[0;34m.\u001B[0m\u001B[0mf\u001B[0m\u001B[0;34m,\u001B[0m \u001B[0;34m**\u001B[0m\u001B[0mself\u001B[0m\u001B[0;34m.\u001B[0m\u001B[0moptions\u001B[0m\u001B[0;34m)\u001B[0m  \u001B[0;31m# type: ignore[call-arg]\u001B[0m\u001B[0;34m\u001B[0m\u001B[0;34m\u001B[0m\u001B[0m\n\u001B[0m\u001B[1;32m   1041\u001B[0m \u001B[0;34m\u001B[0m\u001B[0m\n\u001B[1;32m   1042\u001B[0m     \u001B[0;32mdef\u001B[0m \u001B[0m_failover_to_python\u001B[0m\u001B[0;34m(\u001B[0m\u001B[0mself\u001B[0m\u001B[0;34m)\u001B[0m\u001B[0;34m:\u001B[0m\u001B[0;34m\u001B[0m\u001B[0;34m\u001B[0m\u001B[0m\n",
      "\u001B[0;32m/Library/Frameworks/Python.framework/Versions/3.8/lib/python3.8/site-packages/pandas/io/parsers/c_parser_wrapper.py\u001B[0m in \u001B[0;36m__init__\u001B[0;34m(self, src, **kwds)\u001B[0m\n\u001B[1;32m     49\u001B[0m \u001B[0;34m\u001B[0m\u001B[0m\n\u001B[1;32m     50\u001B[0m         \u001B[0;31m# open handles\u001B[0m\u001B[0;34m\u001B[0m\u001B[0;34m\u001B[0m\u001B[0;34m\u001B[0m\u001B[0m\n\u001B[0;32m---> 51\u001B[0;31m         \u001B[0mself\u001B[0m\u001B[0;34m.\u001B[0m\u001B[0m_open_handles\u001B[0m\u001B[0;34m(\u001B[0m\u001B[0msrc\u001B[0m\u001B[0;34m,\u001B[0m \u001B[0mkwds\u001B[0m\u001B[0;34m)\u001B[0m\u001B[0;34m\u001B[0m\u001B[0;34m\u001B[0m\u001B[0m\n\u001B[0m\u001B[1;32m     52\u001B[0m         \u001B[0;32massert\u001B[0m \u001B[0mself\u001B[0m\u001B[0;34m.\u001B[0m\u001B[0mhandles\u001B[0m \u001B[0;32mis\u001B[0m \u001B[0;32mnot\u001B[0m \u001B[0;32mNone\u001B[0m\u001B[0;34m\u001B[0m\u001B[0;34m\u001B[0m\u001B[0m\n\u001B[1;32m     53\u001B[0m \u001B[0;34m\u001B[0m\u001B[0m\n",
      "\u001B[0;32m/Library/Frameworks/Python.framework/Versions/3.8/lib/python3.8/site-packages/pandas/io/parsers/base_parser.py\u001B[0m in \u001B[0;36m_open_handles\u001B[0;34m(self, src, kwds)\u001B[0m\n\u001B[1;32m    220\u001B[0m         \u001B[0mLet\u001B[0m \u001B[0mthe\u001B[0m \u001B[0mreaders\u001B[0m \u001B[0mopen\u001B[0m \u001B[0mIOHandles\u001B[0m \u001B[0mafter\u001B[0m \u001B[0mthey\u001B[0m \u001B[0mare\u001B[0m \u001B[0mdone\u001B[0m \u001B[0;32mwith\u001B[0m \u001B[0mtheir\u001B[0m \u001B[0mpotential\u001B[0m \u001B[0mraises\u001B[0m\u001B[0;34m.\u001B[0m\u001B[0;34m\u001B[0m\u001B[0;34m\u001B[0m\u001B[0m\n\u001B[1;32m    221\u001B[0m         \"\"\"\n\u001B[0;32m--> 222\u001B[0;31m         self.handles = get_handle(\n\u001B[0m\u001B[1;32m    223\u001B[0m             \u001B[0msrc\u001B[0m\u001B[0;34m,\u001B[0m\u001B[0;34m\u001B[0m\u001B[0;34m\u001B[0m\u001B[0m\n\u001B[1;32m    224\u001B[0m             \u001B[0;34m\"r\"\u001B[0m\u001B[0;34m,\u001B[0m\u001B[0;34m\u001B[0m\u001B[0;34m\u001B[0m\u001B[0m\n",
      "\u001B[0;32m/Library/Frameworks/Python.framework/Versions/3.8/lib/python3.8/site-packages/pandas/io/common.py\u001B[0m in \u001B[0;36mget_handle\u001B[0;34m(path_or_buf, mode, encoding, compression, memory_map, is_text, errors, storage_options)\u001B[0m\n\u001B[1;32m    700\u001B[0m         \u001B[0;32mif\u001B[0m \u001B[0mioargs\u001B[0m\u001B[0;34m.\u001B[0m\u001B[0mencoding\u001B[0m \u001B[0;32mand\u001B[0m \u001B[0;34m\"b\"\u001B[0m \u001B[0;32mnot\u001B[0m \u001B[0;32min\u001B[0m \u001B[0mioargs\u001B[0m\u001B[0;34m.\u001B[0m\u001B[0mmode\u001B[0m\u001B[0;34m:\u001B[0m\u001B[0;34m\u001B[0m\u001B[0;34m\u001B[0m\u001B[0m\n\u001B[1;32m    701\u001B[0m             \u001B[0;31m# Encoding\u001B[0m\u001B[0;34m\u001B[0m\u001B[0;34m\u001B[0m\u001B[0;34m\u001B[0m\u001B[0m\n\u001B[0;32m--> 702\u001B[0;31m             handle = open(\n\u001B[0m\u001B[1;32m    703\u001B[0m                 \u001B[0mhandle\u001B[0m\u001B[0;34m,\u001B[0m\u001B[0;34m\u001B[0m\u001B[0;34m\u001B[0m\u001B[0m\n\u001B[1;32m    704\u001B[0m                 \u001B[0mioargs\u001B[0m\u001B[0;34m.\u001B[0m\u001B[0mmode\u001B[0m\u001B[0;34m,\u001B[0m\u001B[0;34m\u001B[0m\u001B[0;34m\u001B[0m\u001B[0m\n",
      "\u001B[0;31mFileNotFoundError\u001B[0m: [Errno 2] No such file or directory: 'dbpedia2_ink_result_complexity_2.csv'"
     ]
    }
   ],
   "source": [
    "inkf = pd.read_csv(\"dbpedia2_ink_result_complexity_2.csv\", index_col=0)\n",
    "len(inkf)"
   ],
   "metadata": {
    "collapsed": false,
    "pycharm": {
     "name": "#%%\n"
    }
   }
  },
  {
   "cell_type": "code",
   "execution_count": 56,
   "outputs": [
    {
     "data": {
      "text/plain": "0.891122233878048"
     },
     "execution_count": 56,
     "metadata": {},
     "output_type": "execute_result"
    }
   ],
   "source": [
    "inkf.sort_values('confidence',ascending=False).head(N)['confidence'].mean()"
   ],
   "metadata": {
    "collapsed": false,
    "pycharm": {
     "name": "#%%\n"
    }
   }
  },
  {
   "cell_type": "code",
   "execution_count": 57,
   "outputs": [
    {
     "data": {
      "text/plain": "0.10743025467468288"
     },
     "execution_count": 57,
     "metadata": {},
     "output_type": "execute_result"
    }
   ],
   "source": [
    "inkf.sort_values('confidence',ascending=False).head(N)['confidence'].std()"
   ],
   "metadata": {
    "collapsed": false,
    "pycharm": {
     "name": "#%%\n"
    }
   }
  },
  {
   "cell_type": "code",
   "execution_count": null,
   "outputs": [],
   "source": [],
   "metadata": {
    "collapsed": false,
    "pycharm": {
     "name": "#%%\n"
    }
   }
  }
 ],
 "metadata": {
  "kernelspec": {
   "display_name": "Python 3",
   "language": "python",
   "name": "python3"
  },
  "language_info": {
   "codemirror_mode": {
    "name": "ipython",
    "version": 2
   },
   "file_extension": ".py",
   "mimetype": "text/x-python",
   "name": "python",
   "nbconvert_exporter": "python",
   "pygments_lexer": "ipython2",
   "version": "2.7.6"
  }
 },
 "nbformat": 4,
 "nbformat_minor": 0
}